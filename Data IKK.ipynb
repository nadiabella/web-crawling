{
 "cells": [
  {
   "cell_type": "code",
   "execution_count": 19,
   "metadata": {},
   "outputs": [],
   "source": [
    "# from urllib2 import urlopen py2\n",
    "from urllib.request import urlopen\n",
    "from bs4 import BeautifulSoup\n",
    "import pandas as pd\n",
    "from IPython.display import Image\n",
    "from IPython.core.display import HTML "
   ]
  },
  {
   "cell_type": "code",
   "execution_count": 20,
   "metadata": {},
   "outputs": [],
   "source": [
    "url = \"https://tradingeconomics.com/indonesia/consumer-confidence\""
   ]
  },
  {
   "cell_type": "code",
   "execution_count": 21,
   "metadata": {},
   "outputs": [],
   "source": [
    "soup1 = BeautifulSoup(urlopen(url), \"lxml\")"
   ]
  },
  {
   "cell_type": "markdown",
   "metadata": {},
   "source": [
    "# Get Forecast Calender"
   ]
  },
  {
   "cell_type": "code",
   "execution_count": 22,
   "metadata": {},
   "outputs": [],
   "source": [
    "table1 = soup1.find(\"table\", {\"class\": \"table table-hover\"})"
   ]
  },
  {
   "cell_type": "code",
   "execution_count": 23,
   "metadata": {},
   "outputs": [],
   "source": [
    "df = pd.read_html(str(table1))[0]"
   ]
  },
  {
   "cell_type": "code",
   "execution_count": 24,
   "metadata": {},
   "outputs": [],
   "source": [
    "columns = [\"Calendar\", \"GMT\", \"Type\",\"Reference\", \"Actual\", \"Previous\", \"Consensus\", \"TEForecast\"]\n",
    "df.columns = columns"
   ]
  },
  {
   "cell_type": "code",
   "execution_count": 25,
   "metadata": {
    "scrolled": true
   },
   "outputs": [
    {
     "data": {
      "text/html": [
       "<div>\n",
       "<style scoped>\n",
       "    .dataframe tbody tr th:only-of-type {\n",
       "        vertical-align: middle;\n",
       "    }\n",
       "\n",
       "    .dataframe tbody tr th {\n",
       "        vertical-align: top;\n",
       "    }\n",
       "\n",
       "    .dataframe thead th {\n",
       "        text-align: right;\n",
       "    }\n",
       "</style>\n",
       "<table border=\"1\" class=\"dataframe\">\n",
       "  <thead>\n",
       "    <tr style=\"text-align: right;\">\n",
       "      <th></th>\n",
       "      <th>Calendar</th>\n",
       "      <th>GMT</th>\n",
       "      <th>Type</th>\n",
       "      <th>Reference</th>\n",
       "      <th>Actual</th>\n",
       "      <th>Previous</th>\n",
       "      <th>Consensus</th>\n",
       "      <th>TEForecast</th>\n",
       "    </tr>\n",
       "  </thead>\n",
       "  <tbody>\n",
       "    <tr>\n",
       "      <th>0</th>\n",
       "      <td>2021-07-08</td>\n",
       "      <td>03:45 AM</td>\n",
       "      <td>Consumer Confidence</td>\n",
       "      <td>Jun</td>\n",
       "      <td>107.4</td>\n",
       "      <td>104.4</td>\n",
       "      <td>NaN</td>\n",
       "      <td>NaN</td>\n",
       "    </tr>\n",
       "    <tr>\n",
       "      <th>1</th>\n",
       "      <td>2021-08-09</td>\n",
       "      <td>05:20 AM</td>\n",
       "      <td>Consumer Confidence</td>\n",
       "      <td>Jul</td>\n",
       "      <td>80.2</td>\n",
       "      <td>107.4</td>\n",
       "      <td>NaN</td>\n",
       "      <td>107.0</td>\n",
       "    </tr>\n",
       "    <tr>\n",
       "      <th>2</th>\n",
       "      <td>2021-09-08</td>\n",
       "      <td>03:00 AM</td>\n",
       "      <td>Consumer Confidence</td>\n",
       "      <td>Aug</td>\n",
       "      <td>77.3</td>\n",
       "      <td>80.2</td>\n",
       "      <td>NaN</td>\n",
       "      <td>NaN</td>\n",
       "    </tr>\n",
       "    <tr>\n",
       "      <th>3</th>\n",
       "      <td>2021-10-08</td>\n",
       "      <td>03:00 AM</td>\n",
       "      <td>Consumer Confidence</td>\n",
       "      <td>Sep</td>\n",
       "      <td>95.5</td>\n",
       "      <td>77.3</td>\n",
       "      <td>NaN</td>\n",
       "      <td>NaN</td>\n",
       "    </tr>\n",
       "    <tr>\n",
       "      <th>4</th>\n",
       "      <td>2021-11-09</td>\n",
       "      <td>03:00 AM</td>\n",
       "      <td>Consumer Confidence</td>\n",
       "      <td>Oct</td>\n",
       "      <td>NaN</td>\n",
       "      <td>95.5</td>\n",
       "      <td>NaN</td>\n",
       "      <td>NaN</td>\n",
       "    </tr>\n",
       "    <tr>\n",
       "      <th>5</th>\n",
       "      <td>2021-12-08</td>\n",
       "      <td>03:00 AM</td>\n",
       "      <td>Consumer Confidence</td>\n",
       "      <td>Nov</td>\n",
       "      <td>NaN</td>\n",
       "      <td>NaN</td>\n",
       "      <td>NaN</td>\n",
       "      <td>NaN</td>\n",
       "    </tr>\n",
       "  </tbody>\n",
       "</table>\n",
       "</div>"
      ],
      "text/plain": [
       "     Calendar       GMT                 Type Reference  Actual  Previous  \\\n",
       "0  2021-07-08  03:45 AM  Consumer Confidence       Jun   107.4     104.4   \n",
       "1  2021-08-09  05:20 AM  Consumer Confidence       Jul    80.2     107.4   \n",
       "2  2021-09-08  03:00 AM  Consumer Confidence       Aug    77.3      80.2   \n",
       "3  2021-10-08  03:00 AM  Consumer Confidence       Sep    95.5      77.3   \n",
       "4  2021-11-09  03:00 AM  Consumer Confidence       Oct     NaN      95.5   \n",
       "5  2021-12-08  03:00 AM  Consumer Confidence       Nov     NaN       NaN   \n",
       "\n",
       "   Consensus  TEForecast  \n",
       "0        NaN         NaN  \n",
       "1        NaN       107.0  \n",
       "2        NaN         NaN  \n",
       "3        NaN         NaN  \n",
       "4        NaN         NaN  \n",
       "5        NaN         NaN  "
      ]
     },
     "execution_count": 25,
     "metadata": {},
     "output_type": "execute_result"
    }
   ],
   "source": [
    "df"
   ]
  },
  {
   "cell_type": "markdown",
   "metadata": {},
   "source": [
    "## Get Images"
   ]
  },
  {
   "cell_type": "code",
   "execution_count": 9,
   "metadata": {},
   "outputs": [],
   "source": [
    "chart = soup1.find(\"figure\", {\"class\": \"chart-figure\"})"
   ]
  },
  {
   "cell_type": "code",
   "execution_count": 10,
   "metadata": {},
   "outputs": [],
   "source": [
    "link = chart.find('img')['src']"
   ]
  },
  {
   "cell_type": "code",
   "execution_count": 11,
   "metadata": {
    "scrolled": true
   },
   "outputs": [
    {
     "data": {
      "text/html": [
       "<img src=\"https://d3fy651gv2fhd3.cloudfront.net/charts/indonesia-consumer-confidence.png?s=idcci&v=202110080312V20200908\"/>"
      ],
      "text/plain": [
       "<IPython.core.display.Image object>"
      ]
     },
     "execution_count": 11,
     "metadata": {},
     "output_type": "execute_result"
    }
   ],
   "source": [
    "Image(url= link)"
   ]
  },
  {
   "cell_type": "markdown",
   "metadata": {},
   "source": [
    "## Get Resume"
   ]
  },
  {
   "cell_type": "code",
   "execution_count": 16,
   "metadata": {},
   "outputs": [],
   "source": [
    "tablersume = soup1.find(\"table\", {\"class\": \"table\"})"
   ]
  },
  {
   "cell_type": "code",
   "execution_count": 17,
   "metadata": {},
   "outputs": [],
   "source": [
    "df = pd.read_html(str(tablersume), header=1)[0]"
   ]
  },
  {
   "cell_type": "code",
   "execution_count": 18,
   "metadata": {},
   "outputs": [
    {
     "data": {
      "text/html": [
       "<div>\n",
       "<style scoped>\n",
       "    .dataframe tbody tr th:only-of-type {\n",
       "        vertical-align: middle;\n",
       "    }\n",
       "\n",
       "    .dataframe tbody tr th {\n",
       "        vertical-align: top;\n",
       "    }\n",
       "\n",
       "    .dataframe thead th {\n",
       "        text-align: right;\n",
       "    }\n",
       "</style>\n",
       "<table border=\"1\" class=\"dataframe\">\n",
       "  <thead>\n",
       "    <tr style=\"text-align: right;\">\n",
       "      <th></th>\n",
       "      <th>2021-07-08</th>\n",
       "      <th>03:45 AM</th>\n",
       "      <th>Consumer Confidence</th>\n",
       "      <th>Jun</th>\n",
       "      <th>107.4</th>\n",
       "      <th>104.4</th>\n",
       "      <th>Unnamed: 6</th>\n",
       "      <th>Unnamed: 7</th>\n",
       "    </tr>\n",
       "  </thead>\n",
       "  <tbody>\n",
       "    <tr>\n",
       "      <th>0</th>\n",
       "      <td>2021-08-09</td>\n",
       "      <td>05:20 AM</td>\n",
       "      <td>Consumer Confidence</td>\n",
       "      <td>Jul</td>\n",
       "      <td>80.2</td>\n",
       "      <td>107.4</td>\n",
       "      <td>NaN</td>\n",
       "      <td>107.0</td>\n",
       "    </tr>\n",
       "    <tr>\n",
       "      <th>1</th>\n",
       "      <td>2021-09-08</td>\n",
       "      <td>03:00 AM</td>\n",
       "      <td>Consumer Confidence</td>\n",
       "      <td>Aug</td>\n",
       "      <td>77.3</td>\n",
       "      <td>80.2</td>\n",
       "      <td>NaN</td>\n",
       "      <td>NaN</td>\n",
       "    </tr>\n",
       "    <tr>\n",
       "      <th>2</th>\n",
       "      <td>2021-10-08</td>\n",
       "      <td>03:00 AM</td>\n",
       "      <td>Consumer Confidence</td>\n",
       "      <td>Sep</td>\n",
       "      <td>95.5</td>\n",
       "      <td>77.3</td>\n",
       "      <td>NaN</td>\n",
       "      <td>NaN</td>\n",
       "    </tr>\n",
       "    <tr>\n",
       "      <th>3</th>\n",
       "      <td>2021-11-09</td>\n",
       "      <td>03:00 AM</td>\n",
       "      <td>Consumer Confidence</td>\n",
       "      <td>Oct</td>\n",
       "      <td>NaN</td>\n",
       "      <td>95.5</td>\n",
       "      <td>NaN</td>\n",
       "      <td>NaN</td>\n",
       "    </tr>\n",
       "    <tr>\n",
       "      <th>4</th>\n",
       "      <td>2021-12-08</td>\n",
       "      <td>03:00 AM</td>\n",
       "      <td>Consumer Confidence</td>\n",
       "      <td>Nov</td>\n",
       "      <td>NaN</td>\n",
       "      <td>NaN</td>\n",
       "      <td>NaN</td>\n",
       "      <td>NaN</td>\n",
       "    </tr>\n",
       "  </tbody>\n",
       "</table>\n",
       "</div>"
      ],
      "text/plain": [
       "   2021-07-08  03:45 AM  Consumer Confidence  Jun  107.4  104.4  Unnamed: 6  \\\n",
       "0  2021-08-09  05:20 AM  Consumer Confidence  Jul   80.2  107.4         NaN   \n",
       "1  2021-09-08  03:00 AM  Consumer Confidence  Aug   77.3   80.2         NaN   \n",
       "2  2021-10-08  03:00 AM  Consumer Confidence  Sep   95.5   77.3         NaN   \n",
       "3  2021-11-09  03:00 AM  Consumer Confidence  Oct    NaN   95.5         NaN   \n",
       "4  2021-12-08  03:00 AM  Consumer Confidence  Nov    NaN    NaN         NaN   \n",
       "\n",
       "   Unnamed: 7  \n",
       "0       107.0  \n",
       "1         NaN  \n",
       "2         NaN  \n",
       "3         NaN  \n",
       "4         NaN  "
      ]
     },
     "execution_count": 18,
     "metadata": {},
     "output_type": "execute_result"
    }
   ],
   "source": [
    "df"
   ]
  },
  {
   "cell_type": "code",
   "execution_count": null,
   "metadata": {},
   "outputs": [],
   "source": []
  }
 ],
 "metadata": {
  "kernelspec": {
   "display_name": "Python 3",
   "language": "python",
   "name": "python3"
  },
  "language_info": {
   "codemirror_mode": {
    "name": "ipython",
    "version": 3
   },
   "file_extension": ".py",
   "mimetype": "text/x-python",
   "name": "python",
   "nbconvert_exporter": "python",
   "pygments_lexer": "ipython3",
   "version": "3.8.5"
  }
 },
 "nbformat": 4,
 "nbformat_minor": 2
}
