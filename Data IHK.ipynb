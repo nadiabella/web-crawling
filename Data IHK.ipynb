{
 "cells": [
  {
   "cell_type": "code",
   "execution_count": 3,
   "metadata": {},
   "outputs": [],
   "source": [
    "# from urllib2 import urlopen py2\n",
    "from urllib.request import urlopen\n",
    "from bs4 import BeautifulSoup\n",
    "import pandas as pd\n",
    "from IPython.display import Image\n",
    "from IPython.core.display import HTML "
   ]
  },
  {
   "cell_type": "code",
   "execution_count": 4,
   "metadata": {},
   "outputs": [],
   "source": [
    "url = \"https://tradingeconomics.com/indonesia/consumer-price-index-cpi\""
   ]
  },
  {
   "cell_type": "code",
   "execution_count": 5,
   "metadata": {},
   "outputs": [],
   "source": [
    "soup1 = BeautifulSoup(urlopen(url), \"lxml\")"
   ]
  },
  {
   "cell_type": "markdown",
   "metadata": {},
   "source": [
    "# Get Forecast Calender"
   ]
  },
  {
   "cell_type": "code",
   "execution_count": 6,
   "metadata": {},
   "outputs": [],
   "source": [
    "table1 = soup1.find(\"table\", {\"class\": \"table table-hover\"})"
   ]
  },
  {
   "cell_type": "code",
   "execution_count": 11,
   "metadata": {},
   "outputs": [],
   "source": [
    "df = pd.read_html(str(table1), header=0)[0]"
   ]
  },
  {
   "cell_type": "code",
   "execution_count": 12,
   "metadata": {
    "scrolled": true
   },
   "outputs": [
    {
     "data": {
      "text/html": [
       "<div>\n",
       "<style scoped>\n",
       "    .dataframe tbody tr th:only-of-type {\n",
       "        vertical-align: middle;\n",
       "    }\n",
       "\n",
       "    .dataframe tbody tr th {\n",
       "        vertical-align: top;\n",
       "    }\n",
       "\n",
       "    .dataframe thead th {\n",
       "        text-align: right;\n",
       "    }\n",
       "</style>\n",
       "<table border=\"1\" class=\"dataframe\">\n",
       "  <thead>\n",
       "    <tr style=\"text-align: right;\">\n",
       "      <th></th>\n",
       "      <th>Indonesia</th>\n",
       "      <th>Last</th>\n",
       "      <th>Unit</th>\n",
       "      <th>Reference</th>\n",
       "      <th>Previous</th>\n",
       "      <th>Highest</th>\n",
       "      <th>Lowest</th>\n",
       "    </tr>\n",
       "  </thead>\n",
       "  <tbody>\n",
       "    <tr>\n",
       "      <th>0</th>\n",
       "      <td>Inflation Rate</td>\n",
       "      <td>1.60</td>\n",
       "      <td>percent</td>\n",
       "      <td>Sep/21</td>\n",
       "      <td>1.59</td>\n",
       "      <td>82.40</td>\n",
       "      <td>-1.17</td>\n",
       "    </tr>\n",
       "    <tr>\n",
       "      <th>1</th>\n",
       "      <td>Inflation Rate Mom</td>\n",
       "      <td>-0.04</td>\n",
       "      <td>percent</td>\n",
       "      <td>Sep/21</td>\n",
       "      <td>0.03</td>\n",
       "      <td>8.70</td>\n",
       "      <td>-0.45</td>\n",
       "    </tr>\n",
       "    <tr>\n",
       "      <th>2</th>\n",
       "      <td>Consumer Price Index CPI</td>\n",
       "      <td>106.53</td>\n",
       "      <td>points</td>\n",
       "      <td>Sep/21</td>\n",
       "      <td>106.57</td>\n",
       "      <td>106.57</td>\n",
       "      <td>14.20</td>\n",
       "    </tr>\n",
       "    <tr>\n",
       "      <th>3</th>\n",
       "      <td>Core Inflation Rate</td>\n",
       "      <td>1.30</td>\n",
       "      <td>percent</td>\n",
       "      <td>Sep/21</td>\n",
       "      <td>1.31</td>\n",
       "      <td>8.30</td>\n",
       "      <td>1.18</td>\n",
       "    </tr>\n",
       "    <tr>\n",
       "      <th>4</th>\n",
       "      <td>Core Consumer Prices</td>\n",
       "      <td>107.18</td>\n",
       "      <td>points</td>\n",
       "      <td>Sep/21</td>\n",
       "      <td>107.04</td>\n",
       "      <td>107.18</td>\n",
       "      <td>63.40</td>\n",
       "    </tr>\n",
       "    <tr>\n",
       "      <th>5</th>\n",
       "      <td>GDP Deflator</td>\n",
       "      <td>150.60</td>\n",
       "      <td>points</td>\n",
       "      <td>Jun/21</td>\n",
       "      <td>147.93</td>\n",
       "      <td>264.61</td>\n",
       "      <td>95.07</td>\n",
       "    </tr>\n",
       "    <tr>\n",
       "      <th>6</th>\n",
       "      <td>Producer Prices</td>\n",
       "      <td>106.34</td>\n",
       "      <td>points</td>\n",
       "      <td>Sep/21</td>\n",
       "      <td>106.35</td>\n",
       "      <td>161.52</td>\n",
       "      <td>0.58</td>\n",
       "    </tr>\n",
       "    <tr>\n",
       "      <th>7</th>\n",
       "      <td>Export Prices</td>\n",
       "      <td>173.00</td>\n",
       "      <td>points</td>\n",
       "      <td>Aug/21</td>\n",
       "      <td>176.30</td>\n",
       "      <td>176.30</td>\n",
       "      <td>33.20</td>\n",
       "    </tr>\n",
       "    <tr>\n",
       "      <th>8</th>\n",
       "      <td>Import Prices</td>\n",
       "      <td>172.04</td>\n",
       "      <td>points</td>\n",
       "      <td>Aug/21</td>\n",
       "      <td>171.43</td>\n",
       "      <td>172.04</td>\n",
       "      <td>34.74</td>\n",
       "    </tr>\n",
       "    <tr>\n",
       "      <th>9</th>\n",
       "      <td>Food Inflation</td>\n",
       "      <td>3.20</td>\n",
       "      <td>percent</td>\n",
       "      <td>Sep/21</td>\n",
       "      <td>3.31</td>\n",
       "      <td>138.12</td>\n",
       "      <td>-11.16</td>\n",
       "    </tr>\n",
       "    <tr>\n",
       "      <th>10</th>\n",
       "      <td>Producer Prices Change</td>\n",
       "      <td>2.88</td>\n",
       "      <td>percent</td>\n",
       "      <td>Sep/21</td>\n",
       "      <td>2.87</td>\n",
       "      <td>153.43</td>\n",
       "      <td>-12.00</td>\n",
       "    </tr>\n",
       "    <tr>\n",
       "      <th>11</th>\n",
       "      <td>CPI Transportation</td>\n",
       "      <td>103.13</td>\n",
       "      <td>points</td>\n",
       "      <td>Sep/21</td>\n",
       "      <td>103.06</td>\n",
       "      <td>147.83</td>\n",
       "      <td>90.86</td>\n",
       "    </tr>\n",
       "    <tr>\n",
       "      <th>12</th>\n",
       "      <td>CPI Housing Utilities</td>\n",
       "      <td>103.30</td>\n",
       "      <td>points</td>\n",
       "      <td>Sep/21</td>\n",
       "      <td>103.22</td>\n",
       "      <td>133.21</td>\n",
       "      <td>38.32</td>\n",
       "    </tr>\n",
       "  </tbody>\n",
       "</table>\n",
       "</div>"
      ],
      "text/plain": [
       "                   Indonesia    Last     Unit Reference  Previous  Highest  \\\n",
       "0             Inflation Rate    1.60  percent    Sep/21      1.59    82.40   \n",
       "1         Inflation Rate Mom   -0.04  percent    Sep/21      0.03     8.70   \n",
       "2   Consumer Price Index CPI  106.53   points    Sep/21    106.57   106.57   \n",
       "3        Core Inflation Rate    1.30  percent    Sep/21      1.31     8.30   \n",
       "4       Core Consumer Prices  107.18   points    Sep/21    107.04   107.18   \n",
       "5               GDP Deflator  150.60   points    Jun/21    147.93   264.61   \n",
       "6            Producer Prices  106.34   points    Sep/21    106.35   161.52   \n",
       "7              Export Prices  173.00   points    Aug/21    176.30   176.30   \n",
       "8              Import Prices  172.04   points    Aug/21    171.43   172.04   \n",
       "9             Food Inflation    3.20  percent    Sep/21      3.31   138.12   \n",
       "10    Producer Prices Change    2.88  percent    Sep/21      2.87   153.43   \n",
       "11        CPI Transportation  103.13   points    Sep/21    103.06   147.83   \n",
       "12     CPI Housing Utilities  103.30   points    Sep/21    103.22   133.21   \n",
       "\n",
       "    Lowest  \n",
       "0    -1.17  \n",
       "1    -0.45  \n",
       "2    14.20  \n",
       "3     1.18  \n",
       "4    63.40  \n",
       "5    95.07  \n",
       "6     0.58  \n",
       "7    33.20  \n",
       "8    34.74  \n",
       "9   -11.16  \n",
       "10  -12.00  \n",
       "11   90.86  \n",
       "12   38.32  "
      ]
     },
     "execution_count": 12,
     "metadata": {},
     "output_type": "execute_result"
    }
   ],
   "source": [
    "df"
   ]
  },
  {
   "cell_type": "code",
   "execution_count": 13,
   "metadata": {},
   "outputs": [],
   "source": [
    "df.to_csv('data_ihk.csv', encoding='utf-8')"
   ]
  },
  {
   "cell_type": "markdown",
   "metadata": {},
   "source": [
    "## Get Images"
   ]
  },
  {
   "cell_type": "code",
   "execution_count": 18,
   "metadata": {},
   "outputs": [],
   "source": [
    "chart = soup1.find(\"figure\", {\"class\": \"chart-figure\"})"
   ]
  },
  {
   "cell_type": "code",
   "execution_count": 19,
   "metadata": {},
   "outputs": [],
   "source": [
    "link = chart.find('img')['src']"
   ]
  },
  {
   "cell_type": "code",
   "execution_count": 20,
   "metadata": {
    "scrolled": true
   },
   "outputs": [
    {
     "data": {
      "text/html": [
       "<img src=\"https://d3fy651gv2fhd3.cloudfront.net/charts/indonesia-consumer-price-index-cpi.png?s=indonesiaconpriindcp&v=202102152300V20200908\"/>"
      ],
      "text/plain": [
       "<IPython.core.display.Image object>"
      ]
     },
     "execution_count": 20,
     "metadata": {},
     "output_type": "execute_result"
    }
   ],
   "source": [
    "Image(url= link)"
   ]
  },
  {
   "cell_type": "markdown",
   "metadata": {},
   "source": [
    "## Get Resume"
   ]
  },
  {
   "cell_type": "code",
   "execution_count": 21,
   "metadata": {},
   "outputs": [],
   "source": [
    "tablersume = soup1.find(\"table\", {\"class\": \"table\"})"
   ]
  },
  {
   "cell_type": "code",
   "execution_count": 22,
   "metadata": {},
   "outputs": [],
   "source": [
    "df = pd.read_html(str(tablersume), header=1)[0]"
   ]
  },
  {
   "cell_type": "code",
   "execution_count": 23,
   "metadata": {},
   "outputs": [
    {
     "data": {
      "text/html": [
       "<div>\n",
       "<style scoped>\n",
       "    .dataframe tbody tr th:only-of-type {\n",
       "        vertical-align: middle;\n",
       "    }\n",
       "\n",
       "    .dataframe tbody tr th {\n",
       "        vertical-align: top;\n",
       "    }\n",
       "\n",
       "    .dataframe thead th {\n",
       "        text-align: right;\n",
       "    }\n",
       "</style>\n",
       "<table border=\"1\" class=\"dataframe\">\n",
       "  <thead>\n",
       "    <tr style=\"text-align: right;\">\n",
       "      <th></th>\n",
       "      <th>Unnamed: 0</th>\n",
       "      <th>Actual</th>\n",
       "      <th>Previous</th>\n",
       "      <th>Highest</th>\n",
       "      <th>Lowest</th>\n",
       "      <th>Dates</th>\n",
       "      <th>Unit</th>\n",
       "      <th>Frequency</th>\n",
       "      <th>Unnamed: 8</th>\n",
       "    </tr>\n",
       "  </thead>\n",
       "  <tbody>\n",
       "    <tr>\n",
       "      <th>0</th>\n",
       "      <td>NaN</td>\n",
       "      <td>105.95</td>\n",
       "      <td>105.68</td>\n",
       "      <td>105.95</td>\n",
       "      <td>14.2</td>\n",
       "      <td>1996 - 2021</td>\n",
       "      <td>points</td>\n",
       "      <td>Monthly</td>\n",
       "      <td>2018=100, NSA</td>\n",
       "    </tr>\n",
       "  </tbody>\n",
       "</table>\n",
       "</div>"
      ],
      "text/plain": [
       "   Unnamed: 0  Actual  Previous  Highest  Lowest        Dates    Unit  \\\n",
       "0         NaN  105.95    105.68   105.95    14.2  1996 - 2021  points   \n",
       "\n",
       "  Frequency     Unnamed: 8  \n",
       "0   Monthly  2018=100, NSA  "
      ]
     },
     "execution_count": 23,
     "metadata": {},
     "output_type": "execute_result"
    }
   ],
   "source": [
    "df"
   ]
  },
  {
   "cell_type": "code",
   "execution_count": null,
   "metadata": {},
   "outputs": [],
   "source": []
  }
 ],
 "metadata": {
  "kernelspec": {
   "display_name": "Python 3",
   "language": "python",
   "name": "python3"
  },
  "language_info": {
   "codemirror_mode": {
    "name": "ipython",
    "version": 3
   },
   "file_extension": ".py",
   "mimetype": "text/x-python",
   "name": "python",
   "nbconvert_exporter": "python",
   "pygments_lexer": "ipython3",
   "version": "3.8.5"
  }
 },
 "nbformat": 4,
 "nbformat_minor": 2
}
